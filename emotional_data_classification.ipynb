{
  "nbformat": 4,
  "nbformat_minor": 0,
  "metadata": {
    "colab": {
      "provenance": []
    },
    "kernelspec": {
      "name": "python3",
      "display_name": "Python 3"
    },
    "language_info": {
      "name": "python"
    }
  },
  "cells": [
    {
      "cell_type": "code",
      "execution_count": null,
      "metadata": {
        "colab": {
          "base_uri": "https://localhost:8080/"
        },
        "id": "6ZqlRf66Nqs7",
        "outputId": "a7f42abb-6a70-4bdc-9c0a-73dd5c17bc6b"
      },
      "outputs": [
        {
          "output_type": "stream",
          "name": "stdout",
          "text": [
            "Mounted at /content/drive\n"
          ]
        }
      ],
      "source": [
        "from google.colab import drive\n",
        "drive.mount('/content/drive')"
      ]
    },
    {
      "cell_type": "code",
      "source": [
        "# This Python 3 environment comes with many helpful analytics libraries installed\n",
        "# It is defined by the kaggle/python Docker image: https://github.com/kaggle/docker-python\n",
        "# For example, here's several helpful packages to load\n",
        "\n",
        "import numpy as np # linear algebra\n",
        "import pandas as pd # data processing, CSV file I/O (e.g. pd.read_csv)\n",
        "\n",
        "# Input data files are available in the read-only \"../input/\" directory\n",
        "# For example, running this (by clicking run or pressing Shift+Enter) will list all files under the input directory\n",
        "\n",
        "import tensorflow as tf\n",
        "from tensorflow import keras\n",
        "import matplotlib\n",
        "import matplotlib.pyplot as plt\n",
        "import seaborn as sns\n"
      ],
      "metadata": {
        "id": "-DAInVQacTKz"
      },
      "execution_count": null,
      "outputs": []
    },
    {
      "cell_type": "code",
      "source": [
        "train = pd.read_csv('../content/drive/MyDrive/training-em1.csv')\n",
        "validation = pd.read_csv('../content/drive/MyDrive/validation-em1.csv')\n",
        "test = pd.read_csv('../content/drive/MyDrive/test-em1.csv')"
      ],
      "metadata": {
        "id": "JwWJsZFTctKd"
      },
      "execution_count": null,
      "outputs": []
    },
    {
      "cell_type": "code",
      "source": [
        "print(train.head())\n",
        "print(validation.head())\n",
        "print(test.head())"
      ],
      "metadata": {
        "colab": {
          "base_uri": "https://localhost:8080/"
        },
        "id": "Wwx4swOWdKkQ",
        "outputId": "0154c83b-0d7a-472c-edbb-ea1190936a66"
      },
      "execution_count": null,
      "outputs": [
        {
          "output_type": "stream",
          "name": "stdout",
          "text": [
            "                                                text  label\n",
            "0                            i didnt feel humiliated      0\n",
            "1  i can go from feeling so hopeless to so damned...      0\n",
            "2   im grabbing a minute to post i feel greedy wrong      3\n",
            "3  i am ever feeling nostalgic about the fireplac...      2\n",
            "4                               i am feeling grouchy      3\n",
            "                                                text  label\n",
            "0  im feeling quite sad and sorry for myself but ...      0\n",
            "1  i feel like i am still looking at a blank canv...      0\n",
            "2                     i feel like a faithful servant      2\n",
            "3                  i am just feeling cranky and blue      3\n",
            "4  i can have for a treat or if i am feeling festive      1\n",
            "                                                text  label\n",
            "0  im feeling rather rotten so im not very ambiti...      0\n",
            "1          im updating my blog because i feel shitty      0\n",
            "2  i never make her separate from me because i do...      0\n",
            "3  i left with my bouquet of red and yellow tulip...      1\n",
            "4    i was feeling a little vain when i did this one      0\n"
          ]
        }
      ]
    },
    {
      "cell_type": "code",
      "source": [
        "labels_dict = {0:'sadness', 1:'joy', 2:'love', 3:'anger', 4:'fear', 5:'surprise'}\n",
        "train['description'] = train['label'].map(labels_dict )\n",
        "train.head()"
      ],
      "metadata": {
        "colab": {
          "base_uri": "https://localhost:8080/",
          "height": 206
        },
        "id": "cTx44qIudPLM",
        "outputId": "0c148498-b510-4339-db7c-3b62a77e508d"
      },
      "execution_count": null,
      "outputs": [
        {
          "output_type": "execute_result",
          "data": {
            "text/plain": [
              "                                                text  label description\n",
              "0                            i didnt feel humiliated      0     sadness\n",
              "1  i can go from feeling so hopeless to so damned...      0     sadness\n",
              "2   im grabbing a minute to post i feel greedy wrong      3       anger\n",
              "3  i am ever feeling nostalgic about the fireplac...      2        love\n",
              "4                               i am feeling grouchy      3       anger"
            ],
            "text/html": [
              "\n",
              "  <div id=\"df-324923df-fa76-485c-81a9-396b4aae76c0\">\n",
              "    <div class=\"colab-df-container\">\n",
              "      <div>\n",
              "<style scoped>\n",
              "    .dataframe tbody tr th:only-of-type {\n",
              "        vertical-align: middle;\n",
              "    }\n",
              "\n",
              "    .dataframe tbody tr th {\n",
              "        vertical-align: top;\n",
              "    }\n",
              "\n",
              "    .dataframe thead th {\n",
              "        text-align: right;\n",
              "    }\n",
              "</style>\n",
              "<table border=\"1\" class=\"dataframe\">\n",
              "  <thead>\n",
              "    <tr style=\"text-align: right;\">\n",
              "      <th></th>\n",
              "      <th>text</th>\n",
              "      <th>label</th>\n",
              "      <th>description</th>\n",
              "    </tr>\n",
              "  </thead>\n",
              "  <tbody>\n",
              "    <tr>\n",
              "      <th>0</th>\n",
              "      <td>i didnt feel humiliated</td>\n",
              "      <td>0</td>\n",
              "      <td>sadness</td>\n",
              "    </tr>\n",
              "    <tr>\n",
              "      <th>1</th>\n",
              "      <td>i can go from feeling so hopeless to so damned...</td>\n",
              "      <td>0</td>\n",
              "      <td>sadness</td>\n",
              "    </tr>\n",
              "    <tr>\n",
              "      <th>2</th>\n",
              "      <td>im grabbing a minute to post i feel greedy wrong</td>\n",
              "      <td>3</td>\n",
              "      <td>anger</td>\n",
              "    </tr>\n",
              "    <tr>\n",
              "      <th>3</th>\n",
              "      <td>i am ever feeling nostalgic about the fireplac...</td>\n",
              "      <td>2</td>\n",
              "      <td>love</td>\n",
              "    </tr>\n",
              "    <tr>\n",
              "      <th>4</th>\n",
              "      <td>i am feeling grouchy</td>\n",
              "      <td>3</td>\n",
              "      <td>anger</td>\n",
              "    </tr>\n",
              "  </tbody>\n",
              "</table>\n",
              "</div>\n",
              "      <button class=\"colab-df-convert\" onclick=\"convertToInteractive('df-324923df-fa76-485c-81a9-396b4aae76c0')\"\n",
              "              title=\"Convert this dataframe to an interactive table.\"\n",
              "              style=\"display:none;\">\n",
              "        \n",
              "  <svg xmlns=\"http://www.w3.org/2000/svg\" height=\"24px\"viewBox=\"0 0 24 24\"\n",
              "       width=\"24px\">\n",
              "    <path d=\"M0 0h24v24H0V0z\" fill=\"none\"/>\n",
              "    <path d=\"M18.56 5.44l.94 2.06.94-2.06 2.06-.94-2.06-.94-.94-2.06-.94 2.06-2.06.94zm-11 1L8.5 8.5l.94-2.06 2.06-.94-2.06-.94L8.5 2.5l-.94 2.06-2.06.94zm10 10l.94 2.06.94-2.06 2.06-.94-2.06-.94-.94-2.06-.94 2.06-2.06.94z\"/><path d=\"M17.41 7.96l-1.37-1.37c-.4-.4-.92-.59-1.43-.59-.52 0-1.04.2-1.43.59L10.3 9.45l-7.72 7.72c-.78.78-.78 2.05 0 2.83L4 21.41c.39.39.9.59 1.41.59.51 0 1.02-.2 1.41-.59l7.78-7.78 2.81-2.81c.8-.78.8-2.07 0-2.86zM5.41 20L4 18.59l7.72-7.72 1.47 1.35L5.41 20z\"/>\n",
              "  </svg>\n",
              "      </button>\n",
              "      \n",
              "  <style>\n",
              "    .colab-df-container {\n",
              "      display:flex;\n",
              "      flex-wrap:wrap;\n",
              "      gap: 12px;\n",
              "    }\n",
              "\n",
              "    .colab-df-convert {\n",
              "      background-color: #E8F0FE;\n",
              "      border: none;\n",
              "      border-radius: 50%;\n",
              "      cursor: pointer;\n",
              "      display: none;\n",
              "      fill: #1967D2;\n",
              "      height: 32px;\n",
              "      padding: 0 0 0 0;\n",
              "      width: 32px;\n",
              "    }\n",
              "\n",
              "    .colab-df-convert:hover {\n",
              "      background-color: #E2EBFA;\n",
              "      box-shadow: 0px 1px 2px rgba(60, 64, 67, 0.3), 0px 1px 3px 1px rgba(60, 64, 67, 0.15);\n",
              "      fill: #174EA6;\n",
              "    }\n",
              "\n",
              "    [theme=dark] .colab-df-convert {\n",
              "      background-color: #3B4455;\n",
              "      fill: #D2E3FC;\n",
              "    }\n",
              "\n",
              "    [theme=dark] .colab-df-convert:hover {\n",
              "      background-color: #434B5C;\n",
              "      box-shadow: 0px 1px 3px 1px rgba(0, 0, 0, 0.15);\n",
              "      filter: drop-shadow(0px 1px 2px rgba(0, 0, 0, 0.3));\n",
              "      fill: #FFFFFF;\n",
              "    }\n",
              "  </style>\n",
              "\n",
              "      <script>\n",
              "        const buttonEl =\n",
              "          document.querySelector('#df-324923df-fa76-485c-81a9-396b4aae76c0 button.colab-df-convert');\n",
              "        buttonEl.style.display =\n",
              "          google.colab.kernel.accessAllowed ? 'block' : 'none';\n",
              "\n",
              "        async function convertToInteractive(key) {\n",
              "          const element = document.querySelector('#df-324923df-fa76-485c-81a9-396b4aae76c0');\n",
              "          const dataTable =\n",
              "            await google.colab.kernel.invokeFunction('convertToInteractive',\n",
              "                                                     [key], {});\n",
              "          if (!dataTable) return;\n",
              "\n",
              "          const docLinkHtml = 'Like what you see? Visit the ' +\n",
              "            '<a target=\"_blank\" href=https://colab.research.google.com/notebooks/data_table.ipynb>data table notebook</a>'\n",
              "            + ' to learn more about interactive tables.';\n",
              "          element.innerHTML = '';\n",
              "          dataTable['output_type'] = 'display_data';\n",
              "          await google.colab.output.renderOutput(dataTable, element);\n",
              "          const docLink = document.createElement('div');\n",
              "          docLink.innerHTML = docLinkHtml;\n",
              "          element.appendChild(docLink);\n",
              "        }\n",
              "      </script>\n",
              "    </div>\n",
              "  </div>\n",
              "  "
            ]
          },
          "metadata": {},
          "execution_count": 5
        }
      ]
    },
    {
      "cell_type": "code",
      "source": [
        "train['description'].value_counts(normalize=True)"
      ],
      "metadata": {
        "colab": {
          "base_uri": "https://localhost:8080/"
        },
        "id": "myWqGYgMdT-Q",
        "outputId": "a77aa3b5-4a4f-4856-f551-26c8977680a5"
      },
      "execution_count": null,
      "outputs": [
        {
          "output_type": "execute_result",
          "data": {
            "text/plain": [
              "joy         0.335125\n",
              "sadness     0.291625\n",
              "anger       0.134937\n",
              "fear        0.121063\n",
              "love        0.081500\n",
              "surprise    0.035750\n",
              "Name: description, dtype: float64"
            ]
          },
          "metadata": {},
          "execution_count": 6
        }
      ]
    },
    {
      "cell_type": "code",
      "source": [
        "train['description'].value_counts().plot(kind='bar');"
      ],
      "metadata": {
        "colab": {
          "base_uri": "https://localhost:8080/",
          "height": 472
        },
        "id": "Q_jbkWNldaJ-",
        "outputId": "c0052672-797e-4449-c9d8-7f13ae3a8490"
      },
      "execution_count": null,
      "outputs": [
        {
          "output_type": "display_data",
          "data": {
            "text/plain": [
              "<Figure size 640x480 with 1 Axes>"
            ],
            "image/png": "[encoded data removed]"
          },
          "metadata": {}
        }
      ]
    },
    {
      "cell_type": "code",
      "source": [
        "import nltk\n",
        "nltk.download('stopwords')\n",
        "from nltk.corpus import stopwords\n",
        "stopwords.words('english')\n",
        "\n",
        "import string\n",
        "print(string.punctuation)"
      ],
      "metadata": {
        "colab": {
          "base_uri": "https://localhost:8080/"
        },
        "id": "i2z2lNvQdeDh",
        "outputId": "d35f5bfe-44e6-4f56-b8b9-6d6242b51975"
      },
      "execution_count": null,
      "outputs": [
        {
          "output_type": "stream",
          "name": "stdout",
          "text": [
            "!\"#$%&'()*+,-./:;<=>?@[\\]^_`{|}~\n"
          ]
        },
        {
          "output_type": "stream",
          "name": "stderr",
          "text": [
            "[nltk_data] Downloading package stopwords to /root/nltk_data...\n",
            "[nltk_data]   Unzipping corpora/stopwords.zip.\n"
          ]
        }
      ]
    },
    {
      "cell_type": "code",
      "source": [
        "def text_cleaning(text):\n",
        "    punctuation_removed = [char for char in text if char not in string.punctuation]\n",
        "    p_join = ''.join(punctuation_removed)\n",
        "    p_join_clean = [word for word in p_join.split() if word.lower() not in stopwords.words('english')]\n",
        "    return p_join_clean"
      ],
      "metadata": {
        "id": "w0iE2gWldklZ"
      },
      "execution_count": null,
      "outputs": []
    },
    {
      "cell_type": "code",
      "source": [
        "from tensorflow.keras.preprocessing.text import Tokenizer\n",
        "from tensorflow.keras.preprocessing.sequence import pad_sequences"
      ],
      "metadata": {
        "id": "mC8cXm6rdqrq"
      },
      "execution_count": null,
      "outputs": []
    },
    {
      "cell_type": "code",
      "source": [
        "# dtrain = train['text'].apply(text_clean)\n",
        "# dvalid = validation['text'].apply(text_clean)\n",
        "# train['new_text'] = dtrain\n",
        "# validation['new_text'] = dvalid\n",
        "\n",
        "\n",
        "ddtrain = train['text'].apply(text_cleaning)\n",
        "ddvalid = validation['text'].apply(text_cleaning)\n",
        "train['list'] = ddtrain\n",
        "validation['list'] = ddvalid\n",
        "\n",
        "print(train.head())\n",
        "print(validation.head())"
      ],
      "metadata": {
        "colab": {
          "base_uri": "https://localhost:8080/"
        },
        "id": "koeqbOhvdv1s",
        "outputId": "330a3c6d-94c2-4503-ab1a-aa98b36c0d87"
      },
      "execution_count": null,
      "outputs": [
        {
          "output_type": "stream",
          "name": "stdout",
          "text": [
            "                                                text  label description  \\\n",
            "0                            i didnt feel humiliated      0     sadness   \n",
            "1  i can go from feeling so hopeless to so damned...      0     sadness   \n",
            "2   im grabbing a minute to post i feel greedy wrong      3       anger   \n",
            "3  i am ever feeling nostalgic about the fireplac...      2        love   \n",
            "4                               i am feeling grouchy      3       anger   \n",
            "\n",
            "                                                list  \n",
            "0                          [didnt, feel, humiliated]  \n",
            "1  [go, feeling, hopeless, damned, hopeful, aroun...  \n",
            "2  [im, grabbing, minute, post, feel, greedy, wrong]  \n",
            "3  [ever, feeling, nostalgic, fireplace, know, st...  \n",
            "4                                 [feeling, grouchy]  \n",
            "                                                text  label  \\\n",
            "0  im feeling quite sad and sorry for myself but ...      0   \n",
            "1  i feel like i am still looking at a blank canv...      0   \n",
            "2                     i feel like a faithful servant      2   \n",
            "3                  i am just feeling cranky and blue      3   \n",
            "4  i can have for a treat or if i am feeling festive      1   \n",
            "\n",
            "                                                list  \n",
            "0  [im, feeling, quite, sad, sorry, ill, snap, soon]  \n",
            "1  [feel, like, still, looking, blank, canvas, bl...  \n",
            "2                    [feel, like, faithful, servant]  \n",
            "3                            [feeling, cranky, blue]  \n",
            "4                          [treat, feeling, festive]  \n"
          ]
        }
      ]
    },
    {
      "cell_type": "code",
      "source": [
        "X_train, y_train = train['list'].values, train['label'].values\n",
        "X_val, y_val = validation['list'].values, validation['label'].values\n",
        "X_test, y_test = test['text'].values, test['label'].values\n",
        "\n",
        "print(X_train[3])\n",
        "print(X_val[3])\n",
        "print(X_test[3])\n",
        "\n",
        "print(X_train.shape,y_train.shape)\n",
        "print(X_test.shape,y_test.shape)"
      ],
      "metadata": {
        "colab": {
          "base_uri": "https://localhost:8080/"
        },
        "id": "Qv9avX7Kd09U",
        "outputId": "1a04f23a-58e1-4c82-aa49-ea2e39e11854"
      },
      "execution_count": null,
      "outputs": [
        {
          "output_type": "stream",
          "name": "stdout",
          "text": [
            "['ever', 'feeling', 'nostalgic', 'fireplace', 'know', 'still', 'property']\n",
            "['feeling', 'cranky', 'blue']\n",
            "i left with my bouquet of red and yellow tulips under my arm feeling slightly more optimistic than when i arrived\n",
            "(16000,) (16000,)\n",
            "(2000,) (2000,)\n"
          ]
        }
      ]
    },
    {
      "cell_type": "code",
      "source": [
        "max_features = 2000\n",
        "\n",
        "tokenizer = Tokenizer(num_words=max_features, oov_token=\"<OOV>\")\n",
        "tokenizer.fit_on_texts(X_train)\n",
        "X_train_pad = tokenizer.texts_to_sequences(X_train)\n",
        "X_train_pad = pad_sequences(X_train_pad, padding='post', truncating=\"post\", maxlen=100)\n",
        "\n",
        "vocab_size = len(tokenizer.word_index) + 1\n",
        "\n",
        "X_val_pad = tokenizer.texts_to_sequences(X_val)\n",
        "X_val_pad = pad_sequences(X_val_pad, padding='post', truncating=\"post\", maxlen=100)"
      ],
      "metadata": {
        "id": "ryjubf4meAAc"
      },
      "execution_count": null,
      "outputs": []
    },
    {
      "cell_type": "code",
      "source": [
        "print(X_train_pad.shape, X_train_pad[0])\n",
        "print(X_val_pad.shape, X_val_pad[0])"
      ],
      "metadata": {
        "colab": {
          "base_uri": "https://localhost:8080/"
        },
        "id": "Y67YTBJEd5le",
        "outputId": "cbb4da09-5b6c-45fe-aaac-a7ff345b9206"
      },
      "execution_count": null,
      "outputs": [
        {
          "output_type": "stream",
          "name": "stdout",
          "text": [
            "(16000, 100) [ 50   2 563   0   0   0   0   0   0   0   0   0   0   0   0   0   0   0\n",
            "   0   0   0   0   0   0   0   0   0   0   0   0   0   0   0   0   0   0\n",
            "   0   0   0   0   0   0   0   0   0   0   0   0   0   0   0   0   0   0\n",
            "   0   0   0   0   0   0   0   0   0   0   0   0   0   0   0   0   0   0\n",
            "   0   0   0   0   0   0   0   0   0   0   0   0   0   0   0   0   0   0\n",
            "   0   0   0   0   0   0   0   0   0   0]\n",
            "(2000, 100) [  5   3  62 155 234 110   1 420   0   0   0   0   0   0   0   0   0   0\n",
            "   0   0   0   0   0   0   0   0   0   0   0   0   0   0   0   0   0   0\n",
            "   0   0   0   0   0   0   0   0   0   0   0   0   0   0   0   0   0   0\n",
            "   0   0   0   0   0   0   0   0   0   0   0   0   0   0   0   0   0   0\n",
            "   0   0   0   0   0   0   0   0   0   0   0   0   0   0   0   0   0   0\n",
            "   0   0   0   0   0   0   0   0   0   0]\n"
          ]
        }
      ]
    },
    {
      "cell_type": "code",
      "source": [
        "from tensorflow.keras import Sequential\n",
        "from tensorflow.keras.models import Model\n",
        "from tensorflow.keras import layers, Input\n",
        "from tensorflow.keras.layers import  Flatten, GlobalMaxPooling1D, Dropout, SpatialDropout1D\n",
        "from tensorflow.keras.layers import Embedding, Dense, LSTM, GRU, Conv1D, Bidirectional,  MaxPooling1D"
      ],
      "metadata": {
        "id": "ridx098FeHyC"
      },
      "execution_count": null,
      "outputs": []
    },
    {
      "cell_type": "code",
      "source": [
        "embed_dim = 300\n",
        "\n",
        "model1 = Sequential([\n",
        "    Embedding(max_features, embed_dim, input_length=X_train_pad.shape[1]),\n",
        "    Bidirectional(LSTM(156, dropout=0.2)),\n",
        "    Flatten(),\n",
        "    Dense(128, activation = 'relu'),\n",
        "    Dropout(0.2),\n",
        "    Dense(64, activation = 'relu'),\n",
        "    Dense(6, activation = 'softmax')\n",
        "])\n",
        "print(model1.summary())\n",
        "\n",
        "model1.compile(loss = 'categorical_crossentropy', optimizer='adam', metrics = ['accuracy'])"
      ],
      "metadata": {
        "colab": {
          "base_uri": "https://localhost:8080/"
        },
        "id": "q355QzogeMOg",
        "outputId": "22c04eaa-6e71-4469-e9d2-031737183984"
      },
      "execution_count": null,
      "outputs": [
        {
          "output_type": "stream",
          "name": "stdout",
          "text": [
            "Model: \"sequential\"\n",
            "_________________________________________________________________\n",
            " Layer (type)                Output Shape              Param #   \n",
            "=================================================================\n",
            " embedding (Embedding)       (None, 100, 300)          600000    \n",
            "                                                                 \n",
            " bidirectional (Bidirectiona  (None, 312)              570336    \n",
            " l)                                                              \n",
            "                                                                 \n",
            " flatten (Flatten)           (None, 312)               0         \n",
            "                                                                 \n",
            " dense (Dense)               (None, 128)               40064     \n",
            "                                                                 \n",
            " dropout (Dropout)           (None, 128)               0         \n",
            "                                                                 \n",
            " dense_1 (Dense)             (None, 64)                8256      \n",
            "                                                                 \n",
            " dense_2 (Dense)             (None, 6)                 390       \n",
            "                                                                 \n",
            "=================================================================\n",
            "Total params: 1,219,046\n",
            "Trainable params: 1,219,046\n",
            "Non-trainable params: 0\n",
            "_________________________________________________________________\n",
            "None\n"
          ]
        }
      ]
    },
    {
      "cell_type": "code",
      "source": [
        "from tensorflow.keras.utils import to_categorical\n",
        "\n",
        "y_train = to_categorical(y_train)\n",
        "y_val = to_categorical(y_val)\n",
        "y_test = to_categorical(y_test)\n",
        "\n",
        "history1 = model1.fit(X_train_pad, y_train, validation_data=(X_val_pad,y_val), epochs=10, batch_size=64)"
      ],
      "metadata": {
        "colab": {
          "base_uri": "https://localhost:8080/"
        },
        "id": "eIAo1PfheQmW",
        "outputId": "1ff0b60b-2e47-4c30-c867-b43db61d8848"
      },
      "execution_count": null,
      "outputs": [
        {
          "output_type": "stream",
          "name": "stdout",
          "text": [
            "Epoch 1/10\n",
            "250/250 [==============================] - 262s 1s/step - loss: 1.0479 - accuracy: 0.5911 - val_loss: 0.4408 - val_accuracy: 0.8490\n",
            "Epoch 2/10\n",
            "250/250 [==============================] - 232s 927ms/step - loss: 0.2811 - accuracy: 0.9002 - val_loss: 0.2562 - val_accuracy: 0.9125\n",
            "Epoch 3/10\n",
            "250/250 [==============================] - 232s 926ms/step - loss: 0.1747 - accuracy: 0.9336 - val_loss: 0.2525 - val_accuracy: 0.9090\n",
            "Epoch 4/10\n",
            "250/250 [==============================] - 235s 940ms/step - loss: 0.1268 - accuracy: 0.9503 - val_loss: 0.2405 - val_accuracy: 0.9125\n",
            "Epoch 5/10\n",
            "250/250 [==============================] - 232s 926ms/step - loss: 0.1070 - accuracy: 0.9579 - val_loss: 0.2969 - val_accuracy: 0.9055\n",
            "Epoch 6/10\n",
            "250/250 [==============================] - 229s 918ms/step - loss: 0.0923 - accuracy: 0.9628 - val_loss: 0.2776 - val_accuracy: 0.9130\n",
            "Epoch 7/10\n",
            "250/250 [==============================] - 232s 927ms/step - loss: 0.0859 - accuracy: 0.9651 - val_loss: 0.2542 - val_accuracy: 0.9175\n",
            "Epoch 8/10\n",
            "250/250 [==============================] - 230s 920ms/step - loss: 0.0698 - accuracy: 0.9723 - val_loss: 0.2469 - val_accuracy: 0.9155\n",
            "Epoch 9/10\n",
            "250/250 [==============================] - 231s 922ms/step - loss: 0.0642 - accuracy: 0.9742 - val_loss: 0.3081 - val_accuracy: 0.9135\n",
            "Epoch 10/10\n",
            "250/250 [==============================] - 231s 927ms/step - loss: 0.0530 - accuracy: 0.9785 - val_loss: 0.3290 - val_accuracy: 0.9150\n"
          ]
        }
      ]
    },
    {
      "cell_type": "code",
      "source": [
        "def plot_graphs(history, metric):\n",
        "    plt.plot(history.history[metric])\n",
        "    plt.plot(history.history[f'val_{metric}'])\n",
        "    plt.xlabel(\"Epochs\")\n",
        "    plt.ylabel(metric)\n",
        "    plt.legend([metric, f'val_{metric}'])\n",
        "    plt.show()\n",
        "    \n",
        "plot_graphs(history1, \"accuracy\")\n",
        "plot_graphs(history1, \"loss\")"
      ],
      "metadata": {
        "colab": {
          "base_uri": "https://localhost:8080/",
          "height": 881
        },
        "id": "ea2zD40NeZbB",
        "outputId": "2aac3542-6d8c-4fa5-b343-c64d072c13ab"
      },
      "execution_count": null,
      "outputs": [
        {
          "output_type": "display_data",
          "data": {
            "text/plain": [
              "<Figure size 640x480 with 1 Axes>"
            ],
            "image/png": "[encoded data removed]"
          },
          "metadata": {}
        },
        {
          "output_type": "display_data",
          "data": {
            "text/plain": [
              "<Figure size 640x480 with 1 Axes>"
            ],
            "image/png": "[encoded data removed]"
          },
          "metadata": {}
        }
      ]
    },
    {
      "cell_type": "code",
      "source": [
        "X_test_pad = tokenizer.texts_to_sequences(X_test)\n",
        "X_test_pad = pad_sequences(X_test_pad, padding='post', truncating=\"post\", maxlen=100)\n",
        "\n",
        "#Evaluate the model on the test data using `evaluate`\n",
        "print(\"Evaluate on test data\")\n",
        "t_results = model1.evaluate(X_test_pad , y_test, batch_size=32)\n",
        "\n",
        "print(\"Test loss:{} and Test accuracy:{}%\".format(round(t_results[0], 3), round(t_results[1]*100)))"
      ],
      "metadata": {
        "colab": {
          "base_uri": "https://localhost:8080/"
        },
        "id": "Q6NZLJegefP8",
        "outputId": "ef11257a-f343-4ae1-d3cc-405dfca5f71c"
      },
      "execution_count": null,
      "outputs": [
        {
          "output_type": "stream",
          "name": "stdout",
          "text": [
            "Evaluate on test data\n",
            "63/63 [==============================] - 11s 175ms/step - loss: 0.3550 - accuracy: 0.8870\n",
            "Test loss:0.355 and Test accuracy:89%\n"
          ]
        }
      ]
    },
    {
      "cell_type": "code",
      "source": [
        "check = 'I am scared of hippos'\n",
        "check_text = tokenizer.texts_to_sequences([check])[0]\n",
        "check_text = pad_sequences([check_text],padding='post', truncating=\"post\", maxlen=100)\n",
        "\n",
        "def Predict(Text, model1):\n",
        "    predict = model1.predict(Text).flatten()\n",
        "    predict = [1 if x>=0.5 else 0 for x in predict]\n",
        "    pos = []\n",
        "    res = []\n",
        "    for i in range(0, len(predict), 6):\n",
        "        pos.append(predict[i:i+6])\n",
        "    for j in pos:\n",
        "        for i in j:\n",
        "            if i==1:\n",
        "                res.append(j.index(i))\n",
        "    g =[]\n",
        "    for i,j in enumerate(labels_dict.items()):\n",
        "        for s in res:\n",
        "            if i is s:\n",
        "    #             g.append(labels_dict[i])\n",
        "                g.append(j)\n",
        "    return res, g\n",
        "        \n",
        "# Use these: X_test[:5]: X_test_pad[:5],check_text\n",
        "\n",
        "print(check,'The prediction is {}'.format(Predict(check_text, model1)))\n",
        "print(X_test[:5],'\\n','The prediction is {}'.format(Predict(X_test_pad[:5], model1)))"
      ],
      "metadata": {
        "colab": {
          "base_uri": "https://localhost:8080/"
        },
        "id": "xBlrSDnOekCO",
        "outputId": "90cb83fd-b4f0-41f5-aa86-bc35b3b62158"
      },
      "execution_count": null,
      "outputs": [
        {
          "output_type": "stream",
          "name": "stdout",
          "text": [
            "1/1 [==============================] - 1s 894ms/step\n",
            "I am scared of hippos The prediction is ([4], [(4, 'fear')])\n",
            "1/1 [==============================] - 0s 69ms/step\n",
            "['im feeling rather rotten so im not very ambitious right now'\n",
            " 'im updating my blog because i feel shitty'\n",
            " 'i never make her separate from me because i don t ever want her to feel like i m ashamed with her'\n",
            " 'i left with my bouquet of red and yellow tulips under my arm feeling slightly more optimistic than when i arrived'\n",
            " 'i was feeling a little vain when i did this one'] \n",
            " The prediction is ([0, 0, 0, 1, 0], [(0, 'sadness'), (0, 'sadness'), (0, 'sadness'), (0, 'sadness'), (1, 'joy')])\n"
          ]
        }
      ]
    },
    {
      "cell_type": "code",
      "source": [
        "y_pred =   np.argmax(model1.predict(X_test_pad), axis=1)\n",
        "y_true = np.argmax(y_test, axis=1)\n",
        "from sklearn import metrics\n",
        "print(metrics.classification_report(y_pred, y_true))"
      ],
      "metadata": {
        "colab": {
          "base_uri": "https://localhost:8080/"
        },
        "id": "E01OiIxTe3Sr",
        "outputId": "c13c7c77-9de7-4474-866f-f9695545cae7"
      },
      "execution_count": null,
      "outputs": [
        {
          "output_type": "stream",
          "name": "stdout",
          "text": [
            "63/63 [==============================] - 10s 164ms/step\n",
            "              precision    recall  f1-score   support\n",
            "\n",
            "           0       0.96      0.91      0.93       615\n",
            "           1       0.90      0.94      0.92       668\n",
            "           2       0.70      0.77      0.74       145\n",
            "           3       0.84      0.86      0.85       270\n",
            "           4       0.86      0.85      0.85       227\n",
            "           5       0.79      0.69      0.74        75\n",
            "\n",
            "    accuracy                           0.89      2000\n",
            "   macro avg       0.84      0.84      0.84      2000\n",
            "weighted avg       0.89      0.89      0.89      2000\n",
            "\n"
          ]
        }
      ]
    }
  ]
}